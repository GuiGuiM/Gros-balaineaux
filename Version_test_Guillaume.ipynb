{
 "cells": [
  {
   "cell_type": "code",
   "execution_count": 81,
   "metadata": {},
   "outputs": [
    {
     "data": {
      "text/plain": [
       "'import numpy as np\\nimport matplotlib.pyplot as plt\\nfrom sklearn import linear_model\\nimport scipy\\nimport aifc\\nimport csv\\nimport pandas as pd\\nimport sys\\n\\ndf = pd.read_csv(\\'train.csv\\', header=0, sep=\\',\\')\\ndf.columns=[\\'sample\\', \\'label\\'] #inutile car nous utilisons panda\\n\\nits_a_whale = []\\nnot_a_whale = []\\nlabel_list = []\\n\\ni = 0\\nwhile len(not_a_whale) != 1000:\\n    if df[\\'label\\'][i] == 0:\\n        not_a_whale.append(df[\\'sample\\'][i])\\n        #création de la liste des 0\\n        label_list.append(0)\\n    i += 1\\n    \\ni = 0\\nwhile len(its_a_whale) != 1000:\\n    if df[\\'label\\'][i] == 1:\\n        its_a_whale.append(df[\\'sample\\'][i])\\n        #création de la liste des 1\\n        label_list.append(1)\\n    i += 1\\n\\n#print(its_a_whale)\\n#print(not_a_whale)\\n\\ndef fct_FFT (liste) :\\n    liste_sample_fft = list()\\n    for i in range (len(liste)) :\\n        filename = liste[i]\\n        s = aifc.open(\\'Data/train/\\' + filename, \"r\")\\n        N = s.getnframes()\\n        strsig = s.readframes(N)\\n        y = np.fromstring(strsig, np.short).byteswap()\\n        FE = s.getframerate()\\n        A = np.fft.fft(y)\\n\\n        DeltaT = 1./FE\\n        ampl = np.abs(A)*1./N\\n        freqs = np.fft.fftfreq(N, DeltaT)\\n        if len(liste) == 1:\\n            P = plt.plot(freqs[:N/2], ampl[:N/2]) \\n            plt.ylabel(\"Amplitude\")\\n            plt.xlabel(\"Frequence\")\\n            plt.show()\\n        liste_sample_fft.append(ampl)\\n    #return P\\n    return liste_sample_fft\\n\\nvect_whale = fct_FFT(its_a_whale)\\nvect_not_whale = fct_FFT(not_a_whale)\\nvect_tot = vect_not_whale + vect_whale\\n\\n\\nfrom sklearn.ensemble import RandomForestClassifier\\n#machine learning en apprenant à classifier les types de baleines\\nPauline = RandomForestClassifier()\\nPauline.fit(vect_tot, label_list)\\n\\nfor i in range(1000):\\n    if Pauline.predict(vect_tot[i].reshape(1, -1)) == 1:\\n        print(\"L\\'echantillon \",i, \"est une baleine\", )\\n\\nprint(vect_tot)'"
      ]
     },
     "execution_count": 81,
     "metadata": {},
     "output_type": "execute_result"
    }
   ],
   "source": [
    "\"\"\"import numpy as np\n",
    "import matplotlib.pyplot as plt\n",
    "from sklearn import linear_model\n",
    "import scipy\n",
    "import aifc\n",
    "import csv\n",
    "import pandas as pd\n",
    "import sys\n",
    "\n",
    "df = pd.read_csv('train.csv', header=0, sep=',')\n",
    "df.columns=['sample', 'label'] #inutile car nous utilisons panda\n",
    "\n",
    "its_a_whale = []\n",
    "not_a_whale = []\n",
    "label_list = []\n",
    "\n",
    "i = 0\n",
    "while len(not_a_whale) != 1000:\n",
    "    if df['label'][i] == 0:\n",
    "        not_a_whale.append(df['sample'][i])\n",
    "        #création de la liste des 0\n",
    "        label_list.append(0)\n",
    "    i += 1\n",
    "    \n",
    "i = 0\n",
    "while len(its_a_whale) != 1000:\n",
    "    if df['label'][i] == 1:\n",
    "        its_a_whale.append(df['sample'][i])\n",
    "        #création de la liste des 1\n",
    "        label_list.append(1)\n",
    "    i += 1\n",
    "\n",
    "#print(its_a_whale)\n",
    "#print(not_a_whale)\n",
    "\n",
    "def fct_FFT (liste) :\n",
    "    liste_sample_fft = list()\n",
    "    for i in range (len(liste)) :\n",
    "        filename = liste[i]\n",
    "        s = aifc.open('Data/train/' + filename, \"r\")\n",
    "        N = s.getnframes()\n",
    "        strsig = s.readframes(N)\n",
    "        y = np.fromstring(strsig, np.short).byteswap()\n",
    "        FE = s.getframerate()\n",
    "        A = np.fft.fft(y)\n",
    "\n",
    "        DeltaT = 1./FE\n",
    "        ampl = np.abs(A)*1./N\n",
    "        freqs = np.fft.fftfreq(N, DeltaT)\n",
    "        if len(liste) == 1:\n",
    "            P = plt.plot(freqs[:N/2], ampl[:N/2]) \n",
    "            plt.ylabel(\"Amplitude\")\n",
    "            plt.xlabel(\"Frequence\")\n",
    "            plt.show()\n",
    "        liste_sample_fft.append(ampl)\n",
    "    #return P\n",
    "    return liste_sample_fft\n",
    "\n",
    "vect_whale = fct_FFT(its_a_whale)\n",
    "vect_not_whale = fct_FFT(not_a_whale)\n",
    "vect_tot = vect_not_whale + vect_whale\n",
    "\n",
    "\n",
    "from sklearn.ensemble import RandomForestClassifier\n",
    "#machine learning en apprenant à classifier les types de baleines\n",
    "Pauline = RandomForestClassifier()\n",
    "Pauline.fit(vect_tot, label_list)\n",
    "\n",
    "for i in range(1000):\n",
    "    if Pauline.predict(vect_tot[i].reshape(1, -1)) == 1:\n",
    "        print(\"L'echantillon \",i, \"est une baleine\", )\n",
    "\n",
    "print(vect_tot)\"\"\""
   ]
  },
  {
   "cell_type": "code",
   "execution_count": 82,
   "metadata": {},
   "outputs": [
    {
     "data": {
      "text/plain": [
       "\"import math\\nimport numpy as np\\nfrom matplotlib.pyplot import *\\nfrom numpy.fft import fft \\n        \\ndef signal(t):\\n    return math.cos(2*math.pi*t)+0.5*math.cos(2*2*math.pi*t)+0.25*math.sin(3*2*math.pi*t)+0.01*math.sin(4*2*math.pi*t)\\n    \\nT=100.345821 #Defines the signal to 100, wich corresponds to an integer that has no multiples by the signal. \\nfe = 10 #Defines the frequency of the sequence\\nt = np.arange(start=0.0,stop=T,step=1.0/fe) #We initialize a time that corresponds to a vector starting at 0 and finishing at T with a step of 1/10\\nechantillons = t.copy() #the copy is usefull because it instancieses echantillons\\nN=t.size # We look at the number of cases in our vector\\nfor k in range(N):\\n    echantillons[k] = signal(t[k])# Don't get that point\\n                  \\ntfd = fft(echantillons) #we execute a fft on our sequence\\nspectre = np.absolute(tfd)\\nspectre = spectre/spectre.max()\\nprint(spectre)       \\nfreq = np.zeros(N)\\nfor k in range(N):\\n    freq[k] = 1.0/T*k\\n            \\nfigure(figsize=(10,4))\\nplot(freq,spectre,'r')\\nxlabel('f')\\nylabel('A')\\naxis([0,fe/2,0,spectre.max()]) #we should have a spectometre....\\ngrid()\\n\""
      ]
     },
     "execution_count": 82,
     "metadata": {},
     "output_type": "execute_result"
    }
   ],
   "source": [
    "\"\"\"import math\n",
    "import numpy as np\n",
    "from matplotlib.pyplot import *\n",
    "from numpy.fft import fft \n",
    "        \n",
    "def signal(t):\n",
    "    return math.cos(2*math.pi*t)+0.5*math.cos(2*2*math.pi*t)+0.25*math.sin(3*2*math.pi*t)+0.01*math.sin(4*2*math.pi*t)\n",
    "    \n",
    "T=100.345821 #Defines the signal to 100, wich corresponds to an integer that has no multiples by the signal. \n",
    "fe = 10 #Defines the frequency of the sequence\n",
    "t = np.arange(start=0.0,stop=T,step=1.0/fe) #We initialize a time that corresponds to a vector starting at 0 and finishing at T with a step of 1/10\n",
    "echantillons = t.copy() #the copy is usefull because it instancieses echantillons\n",
    "N=t.size # We look at the number of cases in our vector\n",
    "for k in range(N):\n",
    "    echantillons[k] = signal(t[k])# Don't get that point\n",
    "                  \n",
    "tfd = fft(echantillons) #we execute a fft on our sequence\n",
    "spectre = np.absolute(tfd)\n",
    "spectre = spectre/spectre.max()\n",
    "print(spectre)       \n",
    "freq = np.zeros(N)\n",
    "for k in range(N):\n",
    "    freq[k] = 1.0/T*k\n",
    "            \n",
    "figure(figsize=(10,4))\n",
    "plot(freq,spectre,'r')\n",
    "xlabel('f')\n",
    "ylabel('A')\n",
    "axis([0,fe/2,0,spectre.max()]) #we should have a spectometre....\n",
    "grid()\n",
    "\"\"\"            "
   ]
  },
  {
   "cell_type": "code",
   "execution_count": 83,
   "metadata": {
    "scrolled": true
   },
   "outputs": [
    {
     "data": {
      "text/plain": [
       "(18000, 6000, 6000)"
      ]
     },
     "execution_count": 83,
     "metadata": {},
     "output_type": "execute_result"
    }
   ],
   "source": [
    "import random\n",
    "import numpy as np\n",
    "import aifc\n",
    "import csv\n",
    "import pandas as pd\n",
    "import sys\n",
    "\n",
    "def extract_file():\n",
    "    df = pd.read_csv('train.csv', header=0, sep=',')\n",
    "    df.columns=['sample', 'label'] \n",
    "\n",
    "def pourc(tl, pourc):\n",
    "    return pourc*tl/100\n",
    "\n",
    "def create_label():\n",
    "    label_list = []\n",
    "    for i in range(len(df)):\n",
    "        label_list.append(df['label'][i])\n",
    "    return label_list\n",
    "\n",
    "def split_our_lists():\n",
    "    extract_file()\n",
    "    train = []\n",
    "    validation = []\n",
    "    test = []\n",
    "    random.shuffle(create_label())\n",
    "    tl = len(label_list)\n",
    "    \n",
    "    for i in range(tl):\n",
    "        if i < pourc(tl,60):\n",
    "            train.append(label_list[i])\n",
    "        elif i < pourc(tl,80):\n",
    "            validation.append(label_list[i])\n",
    "        else:\n",
    "            test.append(label_list[i])\n",
    "    return len(train), len(validation), len(test)\n",
    "\n",
    "split_our_lists()"
   ]
  },
  {
   "cell_type": "code",
   "execution_count": null,
   "metadata": {
    "collapsed": true
   },
   "outputs": [],
   "source": []
  }
 ],
 "metadata": {
  "kernelspec": {
   "display_name": "Python 3",
   "language": "python",
   "name": "python3"
  },
  "language_info": {
   "codemirror_mode": {
    "name": "ipython",
    "version": 3
   },
   "file_extension": ".py",
   "mimetype": "text/x-python",
   "name": "python",
   "nbconvert_exporter": "python",
   "pygments_lexer": "ipython3",
   "version": "3.6.1"
  }
 },
 "nbformat": 4,
 "nbformat_minor": 2
}
