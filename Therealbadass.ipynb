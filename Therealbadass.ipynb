{
 "cells": [
  {
   "cell_type": "code",
   "execution_count": 7,
   "metadata": {},
   "outputs": [],
   "source": [
    "import random\n",
    "import numpy as np\n",
    "import aifc\n",
    "import csv\n",
    "import pandas as pd\n",
    "import sys\n",
    "import matplotlib.pyplot as plt\n",
    "\n",
    "def extract_file():\n",
    "    df = pd.read_csv('train.csv', header=0, sep=',')\n",
    "    df.columns=['sample', 'label'] \n",
    "    return df\n",
    "    \n",
    "def pourc(tl, pourc):\n",
    "    return pourc*tl/100\n",
    "\n",
    "def compare_our_arrays(x,y):\n",
    "    score = 0\n",
    "    for i in x: \n",
    "        if x[i] == y[i]:\n",
    "            score+=1\n",
    "    return score\n",
    "\n",
    "def create_label():\n",
    "    df = extract_file()\n",
    "    label_list = []\n",
    "    for i in range(len(df)):\n",
    "        label_list.append(df['label'][i])\n",
    "    return label_list\n",
    "\n",
    "def split_our_lists(): #Splits our lists \n",
    "    train = []\n",
    "    validation = []\n",
    "    test = []\n",
    "    label_list = create_label()\n",
    "    random.shuffle(label_list)\n",
    "    tl = len(label_list)\n",
    "    \n",
    "    for i in range(tl):\n",
    "        if i < pourc(tl,60):\n",
    "            train.append(label_list[i])\n",
    "        elif i < pourc(tl,80):\n",
    "            validation.append(label_list[i])\n",
    "        else:\n",
    "            test.append(label_list[i])\n",
    "    return train, validation, test\n",
    "\n",
    "\n",
    "def show_signal(filename): #shows our signal thx to matplotlib\n",
    "    liste_sample_fft = []\n",
    "    s = aifc.open('Data/train/' + filename, \"r\")\n",
    "    N = s.getnframes()\n",
    "    strsig = s.readframes(N)\n",
    "    y = np.fromstring(strsig, np.short).byteswap()\n",
    "    FE = s.getframerate()\n",
    "    A = np.fft.fft(y)\n",
    "    DeltaT = 1./FE\n",
    "    ampl = np.abs(A)*1./N\n",
    "    freqs = np.fft.fftfreq(N, DeltaT)\n",
    "    P = plt.plot(freqs[:int(N/2)], ampl[:int(N/2)]) \n",
    "    plt.ylabel(\"Amplitude\")\n",
    "    plt.xlabel(\"Frequence\")\n",
    "    plt.show()\n",
    "\n",
    "def fct_FFT(filename) : #Fast Fourier transformation decomposes our temporal signal into frequency signal\n",
    "    liste_sample_fft = []\n",
    "    s = aifc.open('Data/train/' + filename, \"r\")\n",
    "    N = s.getnframes()\n",
    "    strsig = s.readframes(N)\n",
    "    y = np.fromstring(strsig, np.short).byteswap()\n",
    "    FE = s.getframerate()\n",
    "    A = np.fft.fft(y)\n",
    "    DeltaT = 1./FE\n",
    "    ampl = np.abs(A)*1./N\n",
    "    liste_sample_fft.append(ampl)\n",
    "    return ampl\n",
    "\n",
    "def Parcours_file_fft(listname): #Allows us to take the name of the files of train or test or validation\n",
    "    df = extract_file() \n",
    "    df_train = []\n",
    "    for i in range(len(listname)):\n",
    "        df_train.append(fct_FFT(df[\"sample\"][i]))\n",
    "    return df_train\n",
    "\n",
    "liste = split_our_lists() \n",
    "\n",
    "from sklearn.ensemble import RandomForestClassifier\n",
    "Train = liste[0]\n",
    "Validation = liste[1]\n",
    "Train_fft = Parcours_file_fft(liste[0])\n",
    "Validation_fft = Parcours_file_fft(liste[1])\n"
   ]
  },
  {
   "cell_type": "code",
   "execution_count": 8,
   "metadata": {},
   "outputs": [
    {
     "name": "stdout",
     "output_type": "stream",
     "text": [
      "pour n_estim = 2 : 0.73\n",
      "pour n_estim = 5 : 0.735\n",
      "pour n_estim = 7 : 0.735\n",
      "pour n_estim = 10 : 0.725\n",
      "pour n_estim = 15 : 0.735\n",
      "pour n_estim = 100 : 0.725\n"
     ]
    }
   ],
   "source": [
    "k = 200\n",
    "liste_de_test = []\n",
    "for i in [2,5,7,10,15,100]:\n",
    "    ClassifiedDatas = RandomForestClassifier(n_estimators = 7, max_depth = 1, min_samples_split = i)#pas un problème multidimensionnel (on prend que la fréquence)\n",
    "    ClassifiedDatas.fit(Train_fft[:k], Train[:k])\n",
    "    P = ClassifiedDatas.score(Validation_fft[:k], Validation[:k])\n",
    "    liste_de_test.append(P)\n",
    "    print('pour n_estim =',i,':',P)\n"
   ]
  },
  {
   "cell_type": "code",
   "execution_count": 3,
   "metadata": {},
   "outputs": [
    {
     "ename": "NameError",
     "evalue": "name 'ClassifiedDatas' is not defined",
     "output_type": "error",
     "traceback": [
      "\u001b[0;31m---------------------------------------------------------------------------\u001b[0m",
      "\u001b[0;31mNameError\u001b[0m                                 Traceback (most recent call last)",
      "\u001b[0;32m<ipython-input-3-323d9e080dc0>\u001b[0m in \u001b[0;36m<module>\u001b[0;34m()\u001b[0m\n\u001b[1;32m      2\u001b[0m \u001b[0mk\u001b[0m \u001b[0;34m=\u001b[0m \u001b[0;36m200\u001b[0m\u001b[0;34m\u001b[0m\u001b[0m\n\u001b[1;32m      3\u001b[0m \u001b[0mTrain_fft\u001b[0m \u001b[0;34m=\u001b[0m \u001b[0mParcours_file_fft\u001b[0m\u001b[0;34m(\u001b[0m\u001b[0mliste\u001b[0m\u001b[0;34m[\u001b[0m\u001b[0;36m0\u001b[0m\u001b[0;34m]\u001b[0m\u001b[0;34m)\u001b[0m\u001b[0;34m\u001b[0m\u001b[0m\n\u001b[0;32m----> 4\u001b[0;31m \u001b[0mClassifiedDatas\u001b[0m\u001b[0;34m.\u001b[0m\u001b[0mfit\u001b[0m\u001b[0;34m(\u001b[0m\u001b[0mTrain_fft\u001b[0m\u001b[0;34m[\u001b[0m\u001b[0;34m:\u001b[0m\u001b[0mk\u001b[0m\u001b[0;34m]\u001b[0m\u001b[0;34m,\u001b[0m \u001b[0mTrain\u001b[0m\u001b[0;34m[\u001b[0m\u001b[0;34m:\u001b[0m\u001b[0mk\u001b[0m\u001b[0;34m]\u001b[0m\u001b[0;34m)\u001b[0m\u001b[0;34m\u001b[0m\u001b[0m\n\u001b[0m\u001b[1;32m      5\u001b[0m \u001b[0mClassifiedDatas\u001b[0m\u001b[0;34m.\u001b[0m\u001b[0mscore\u001b[0m\u001b[0;34m(\u001b[0m\u001b[0mTrain_fft\u001b[0m\u001b[0;34m[\u001b[0m\u001b[0;34m:\u001b[0m\u001b[0mk\u001b[0m\u001b[0;34m]\u001b[0m\u001b[0;34m,\u001b[0m \u001b[0mTrain\u001b[0m\u001b[0;34m[\u001b[0m\u001b[0;34m:\u001b[0m\u001b[0mk\u001b[0m\u001b[0;34m]\u001b[0m\u001b[0;34m)\u001b[0m\u001b[0;34m\u001b[0m\u001b[0m\n\u001b[1;32m      6\u001b[0m \u001b[0;34m\u001b[0m\u001b[0m\n",
      "\u001b[0;31mNameError\u001b[0m: name 'ClassifiedDatas' is not defined"
     ]
    }
   ],
   "source": [
    "Train = liste[0]\n",
    "k = 200\n",
    "Train_fft = Parcours_file_fft(liste[0])\n",
    "ClassifiedDatas.fit(Train_fft[:k], Train[:k])\n",
    "ClassifiedDatas.score(Train_fft[:k], Train[:k])\n",
    "\n",
    "Y = np.array(Train[:k])\n",
    "Y_predicted = ClassifiedDatas.predict(Train_fft[:k])\n",
    "sum(Y == Y_predicted)\n"
   ]
  },
  {
   "cell_type": "code",
   "execution_count": 11,
   "metadata": {},
   "outputs": [
    {
     "name": "stdout",
     "output_type": "stream",
     "text": [
      "{'bootstrap': True, 'class_weight': None, 'criterion': 'gini', 'max_depth': None, 'max_features': 'auto', 'max_leaf_nodes': None, 'min_impurity_split': 1e-07, 'min_samples_leaf': 1, 'min_samples_split': 2, 'min_weight_fraction_leaf': 0.0, 'n_estimators': 10, 'n_jobs': 1, 'oob_score': False, 'random_state': None, 'verbose': 0, 'warm_start': False}\n"
     ]
    }
   ],
   "source": [
    "print(ClassifiedDatas.get_params(deep = True))"
   ]
  },
  {
   "cell_type": "code",
   "execution_count": 78,
   "metadata": {},
   "outputs": [
    {
     "name": "stdout",
     "output_type": "stream",
     "text": [
      "0.66\n",
      "132\n"
     ]
    }
   ],
   "source": [
    "# Effectuer avec le Validation\n",
    "\n",
    "Validation = liste[1]\n",
    "Validation_fft = Parcours_file_fft(liste[1])\n",
    "print(ClassifiedDatas.score(Validation_fft[:k], Validation[:k]))\n",
    "\n",
    "Xtst = np.array(Validation[:k])\n",
    "Ytst = ClassifiedDatas.predict(Validation_fft[:k])\n",
    "\n",
    "print(sum(Xtst == Ytst))"
   ]
  },
  {
   "cell_type": "code",
   "execution_count": 7,
   "metadata": {},
   "outputs": [
    {
     "name": "stdout",
     "output_type": "stream",
     "text": [
      "(<15x1418 sparse matrix of type '<class 'numpy.int64'>'\n",
      "\twith 1720 stored elements in Compressed Sparse Row format>, array([   0,  155,  314,  455,  594,  733,  872, 1015, 1154, 1285, 1418]))\n"
     ]
    }
   ],
   "source": [
    "# ??  \n",
    "#print(ClassifiedDatas.predict_proba(Train_fft[:15]))\n",
    "print(ClassifiedDatas.decision_path(Train_fft[:15]))\n",
    "\n",
    "#print(ClassifiedDatas.apply(Train_fft[:15]))\n"
   ]
  }
 ],
 "metadata": {
  "kernelspec": {
   "display_name": "Python 3",
   "language": "python",
   "name": "python3"
  },
  "language_info": {
   "codemirror_mode": {
    "name": "ipython",
    "version": 3
   },
   "file_extension": ".py",
   "mimetype": "text/x-python",
   "name": "python",
   "nbconvert_exporter": "python",
   "pygments_lexer": "ipython3",
   "version": "3.6.1"
  }
 },
 "nbformat": 4,
 "nbformat_minor": 2
}
