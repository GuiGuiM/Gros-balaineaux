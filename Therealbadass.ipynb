{
 "cells": [
  {
   "cell_type": "code",
   "execution_count": 1,
   "metadata": {
    "collapsed": true
   },
   "outputs": [],
   "source": [
    "import random\n",
    "import numpy as np\n",
    "import aifc\n",
    "import csv\n",
    "import pandas as pd\n",
    "import sys\n",
    "import matplotlib.pyplot as plt\n",
    "\n",
    "def extract_file():\n",
    "    df = pd.read_csv('train.csv', header=0, sep=',')\n",
    "    df.columns=['sample', 'label'] \n",
    "    return df\n",
    "    \n",
    "def pourc(tl, pourc):\n",
    "    return pourc*tl/100\n",
    "\n",
    "def compare_our_arrays(x,y):\n",
    "    score = 0\n",
    "    for i in x: \n",
    "        if x[i] == y[i]:\n",
    "            score+=1\n",
    "    return score\n",
    "\n",
    "def create_label():\n",
    "    df = extract_file()\n",
    "    label_list = []\n",
    "    for i in range(len(df)):\n",
    "        label_list.append(df['label'][i])\n",
    "    return label_list\n",
    "\n",
    "def split_our_lists(): #Splits our lists \n",
    "    train = []\n",
    "    validation = []\n",
    "    test = []\n",
    "    label_list = create_label()\n",
    "    random.shuffle(label_list)\n",
    "    tl = len(label_list)\n",
    "    \n",
    "    for i in range(tl):\n",
    "        if i < pourc(tl,60):\n",
    "            train.append(label_list[i])\n",
    "        elif i < pourc(tl,80):\n",
    "            validation.append(label_list[i])\n",
    "        else:\n",
    "            test.append(label_list[i])\n",
    "    return train, validation, test\n",
    "\n",
    "\n",
    "def show_signal(filename): #shows our signal thx to matplotlib\n",
    "    liste_sample_fft = []\n",
    "    s = aifc.open('Data/train/' + filename, \"r\")\n",
    "    N = s.getnframes()\n",
    "    strsig = s.readframes(N)\n",
    "    y = np.fromstring(strsig, np.short).byteswap()\n",
    "    FE = s.getframerate()\n",
    "    A = np.fft.fft(y)\n",
    "    DeltaT = 1./FE\n",
    "    ampl = np.abs(A)*1./N\n",
    "    freqs = np.fft.fftfreq(N, DeltaT)\n",
    "    P = plt.plot(freqs[:int(N/2)], ampl[:int(N/2)]) \n",
    "    plt.ylabel(\"Amplitude\")\n",
    "    plt.xlabel(\"Frequence\")\n",
    "    plt.show()\n",
    "\n",
    "def fct_FFT(filename) : #Fast Fourier transformation decomposes our temporal signal into frequency signal\n",
    "    liste_sample_fft = []\n",
    "    s = aifc.open('Data/train/' + filename, \"r\")\n",
    "    N = s.getnframes()\n",
    "    strsig = s.readframes(N)\n",
    "    y = np.fromstring(strsig, np.short).byteswap()\n",
    "    FE = s.getframerate()\n",
    "    A = np.fft.fft(y)\n",
    "    DeltaT = 1./FE\n",
    "    ampl = np.abs(A)*1./N\n",
    "    liste_sample_fft.append(ampl)\n",
    "    return ampl\n",
    "\n",
    "def Parcours_file_fft(listname): #Allows us to take the name of the files of train or test or validation\n",
    "    df = extract_file() \n",
    "    df_train = []\n",
    "    for i in range(len(listname)):\n",
    "        df_train.append(fct_FFT(df[\"sample\"][i]))\n",
    "    return df_train\n",
    "\n",
    "liste = split_our_lists() \n",
    "\n",
    "Train = liste[0]\n",
    "Train_fft = Parcours_file_fft(Train)\n",
    "\n",
    "Validation = liste[1]\n",
    "Validation_fft = Parcours_file_fft(Validation)\n",
    "\n",
    "Test = liste[2]\n",
    "Test_fft = Parcours_file_fft(Test)\n"
   ]
  },
  {
   "cell_type": "code",
   "execution_count": 26,
   "metadata": {},
   "outputs": [
    {
     "name": "stdout",
     "output_type": "stream",
     "text": [
      "pour n_estim = 2 : 0.762\n",
      "pour n_estim = 5 : 0.762\n",
      "pour n_estim = 7 : 0.762\n",
      "pour n_estim = 30 : 0.762\n",
      "pour n_estim = 50 : 0.762\n",
      "pour n_estim = 100 : 0.762\n"
     ]
    }
   ],
   "source": [
    "# Zone test hyperparamètres\n",
    "liste_de_test = []\n",
    "for i in [2,5,7,30,50,100]:\n",
    "    ClassifiedDatas = RandomForestClassifier(n_estimators = 7, max_depth = 1, min_samples_split = 5)#pas un problème multidimensionnel (on prend que la fréquence)\n",
    "    ClassifiedDatas.fit(Train_fft, Train)\n",
    "    P = ClassifiedDatas.score(Test_fft, Test)\n",
    "    liste_de_test.append(P)\n",
    "    print('pour n_estim =',i,':',P)\n"
   ]
  },
  {
   "cell_type": "code",
   "execution_count": 37,
   "metadata": {},
   "outputs": [
    {
     "data": {
      "text/plain": [
       "0.77316666666666667"
      ]
     },
     "execution_count": 37,
     "metadata": {},
     "output_type": "execute_result"
    }
   ],
   "source": [
    "def optimal_method(input_fft,input_s, size = 0):\n",
    "    ClassifiedDatas = RandomForestClassifier(n_estimators = 7, max_depth = 1, min_samples_split = 5)\n",
    "    if size == 0:\n",
    "        ClassifiedDatas.fit(Train_fft, Train)\n",
    "        return ClassifiedDatas.score(input_fft, input_s)\n",
    "    else :\n",
    "        ClassifiedDatas.fit(Train_fft[:size], Train[:size])\n",
    "        return ClassifiedDatas.score(input_fft[:size], input_s[:size])\n",
    "    \n",
    "optimal_method(Validation_fft,Validation)"
   ]
  },
  {
   "cell_type": "code",
   "execution_count": 17,
   "metadata": {},
   "outputs": [
    {
     "name": "stdout",
     "output_type": "stream",
     "text": [
      "{'bootstrap': True, 'class_weight': None, 'criterion': 'gini', 'max_depth': 1, 'max_features': 'auto', 'max_leaf_nodes': None, 'min_impurity_split': 1e-07, 'min_samples_leaf': 1, 'min_samples_split': 5, 'min_weight_fraction_leaf': 0.0, 'n_estimators': 7, 'n_jobs': 1, 'oob_score': False, 'random_state': None, 'verbose': 0, 'warm_start': False}\n"
     ]
    }
   ],
   "source": [
    "print(ClassifiedDatas.get_params(deep = True))\n"
   ]
  },
  {
   "cell_type": "code",
   "execution_count": 38,
   "metadata": {},
   "outputs": [
    {
     "ename": "TypeError",
     "evalue": "ufunc 'bitwise_and' not supported for the input types, and the inputs could not be safely coerced to any supported types according to the casting rule ''safe''",
     "output_type": "error",
     "traceback": [
      "\u001b[0;31m---------------------------------------------------------------------------\u001b[0m",
      "\u001b[0;31mTypeError\u001b[0m                                 Traceback (most recent call last)",
      "\u001b[0;32m<ipython-input-38-f2977fe8a2c6>\u001b[0m in \u001b[0;36m<module>\u001b[0;34m()\u001b[0m\n\u001b[1;32m      4\u001b[0m \u001b[0mnbrs\u001b[0m \u001b[0;34m=\u001b[0m \u001b[0mNearestNeighbors\u001b[0m\u001b[0;34m(\u001b[0m\u001b[0mn_neighbors\u001b[0m\u001b[0;34m=\u001b[0m\u001b[0;36m2\u001b[0m\u001b[0;34m,\u001b[0m \u001b[0malgorithm\u001b[0m\u001b[0;34m=\u001b[0m\u001b[0;34m'ball_tree'\u001b[0m\u001b[0;34m)\u001b[0m\u001b[0;34m.\u001b[0m\u001b[0mfit\u001b[0m\u001b[0;34m(\u001b[0m\u001b[0mTrain_fft\u001b[0m\u001b[0;34m[\u001b[0m\u001b[0;34m:\u001b[0m\u001b[0mk\u001b[0m\u001b[0;34m]\u001b[0m\u001b[0;34m)\u001b[0m\u001b[0;34m\u001b[0m\u001b[0m\n\u001b[1;32m      5\u001b[0m \u001b[0mdistances\u001b[0m\u001b[0;34m,\u001b[0m \u001b[0mindices\u001b[0m \u001b[0;34m=\u001b[0m \u001b[0mnbrs\u001b[0m\u001b[0;34m.\u001b[0m\u001b[0mkneighbors\u001b[0m\u001b[0;34m(\u001b[0m\u001b[0mTrain_fft\u001b[0m\u001b[0;34m[\u001b[0m\u001b[0;34m:\u001b[0m\u001b[0mk\u001b[0m\u001b[0;34m]\u001b[0m\u001b[0;34m)\u001b[0m\u001b[0;34m\u001b[0m\u001b[0m\n\u001b[0;32m----> 6\u001b[0;31m \u001b[0mprint\u001b[0m\u001b[0;34m(\u001b[0m\u001b[0mdistances\u001b[0m \u001b[0;34m&\u001b[0m \u001b[0mindices\u001b[0m\u001b[0;34m)\u001b[0m\u001b[0;34m\u001b[0m\u001b[0m\n\u001b[0m",
      "\u001b[0;31mTypeError\u001b[0m: ufunc 'bitwise_and' not supported for the input types, and the inputs could not be safely coerced to any supported types according to the casting rule ''safe''"
     ]
    }
   ],
   "source": [
    "# zone test nearest_neighbor\n",
    "from sklearn.neighbors import NearestNeighbors\n",
    "k = 5\n",
    "nbrs = NearestNeighbors(n_neighbors=2, algorithm='ball_tree').fit(Train_fft[:k])\n",
    "distances, indices = nbrs.kneighbors(Train_fft[:k])\n",
    "print(distances & indices)"
   ]
  },
  {
   "cell_type": "code",
   "execution_count": 7,
   "metadata": {},
   "outputs": [
    {
     "name": "stdout",
     "output_type": "stream",
     "text": [
      "(<15x1418 sparse matrix of type '<class 'numpy.int64'>'\n",
      "\twith 1720 stored elements in Compressed Sparse Row format>, array([   0,  155,  314,  455,  594,  733,  872, 1015, 1154, 1285, 1418]))\n"
     ]
    }
   ],
   "source": []
  }
 ],
 "metadata": {
  "kernelspec": {
   "display_name": "Python 3",
   "language": "python",
   "name": "python3"
  },
  "language_info": {
   "codemirror_mode": {
    "name": "ipython",
    "version": 3
   },
   "file_extension": ".py",
   "mimetype": "text/x-python",
   "name": "python",
   "nbconvert_exporter": "python",
   "pygments_lexer": "ipython3",
   "version": "3.6.1"
  }
 },
 "nbformat": 4,
 "nbformat_minor": 2
}
