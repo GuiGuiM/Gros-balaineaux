{
 "cells": [
  {
   "cell_type": "code",
   "execution_count": 1,
   "metadata": {
    "collapsed": true
   },
   "outputs": [],
   "source": [
    "import random\n",
    "import numpy as np\n",
    "import aifc\n",
    "import csv\n",
    "import pandas as pd\n",
    "import sys\n",
    "import matplotlib.pyplot as plt\n",
    "\n",
    "def extract_file():\n",
    "    df = pd.read_csv('train.csv', header=0, sep=',')\n",
    "    df.columns=['sample', 'label'] \n",
    "    return df\n",
    "    \n",
    "def pourc(tl, pourc):\n",
    "    return pourc*tl/100\n",
    "\n",
    "def compare_our_arrays(x,y):\n",
    "    score = 0\n",
    "    for i in x: \n",
    "        if x[i] == y[i]:\n",
    "            score+=1\n",
    "    return score\n",
    "\n",
    "def create_label():\n",
    "    df = extract_file()\n",
    "    label_list = []\n",
    "    for i in range(len(df)):\n",
    "        label_list.append(df['label'][i])\n",
    "    return label_list\n",
    "\n",
    "def split_our_lists(): #Splits our lists \n",
    "    train = []\n",
    "    validation = []\n",
    "    test = []\n",
    "    label_list = create_label()\n",
    "    random.shuffle(label_list)\n",
    "    tl = len(label_list)\n",
    "    \n",
    "    for i in range(tl):\n",
    "        if i < pourc(tl,60):\n",
    "            train.append(label_list[i])\n",
    "        elif i < pourc(tl,80):\n",
    "            validation.append(label_list[i])\n",
    "        else:\n",
    "            test.append(label_list[i])\n",
    "    return train, validation, test\n",
    "\n",
    "\n",
    "def show_signal(filename): #shows our signal thx to matplotlib\n",
    "    liste_sample_fft = []\n",
    "    s = aifc.open('Data/train/' + filename, \"r\")\n",
    "    N = s.getnframes()\n",
    "    strsig = s.readframes(N)\n",
    "    y = np.fromstring(strsig, np.short).byteswap()\n",
    "    FE = s.getframerate()\n",
    "    A = np.fft.fft(y)\n",
    "    DeltaT = 1./FE\n",
    "    ampl = np.abs(A)*1./N\n",
    "    freqs = np.fft.fftfreq(N, DeltaT)\n",
    "    P = plt.plot(freqs[:int(N/2)], ampl[:int(N/2)]) \n",
    "    plt.ylabel(\"Amplitude\")\n",
    "    plt.xlabel(\"Frequence\")\n",
    "    plt.show()\n",
    "\n",
    "def fct_FFT(filename) : #Fast Fourier transformation decomposes our temporal signal into frequency signal\n",
    "    liste_sample_fft = []\n",
    "    s = aifc.open('Data/train/' + filename, \"r\")\n",
    "    N = s.getnframes()\n",
    "    strsig = s.readframes(N)\n",
    "    y = np.fromstring(strsig, np.short).byteswap()\n",
    "    FE = s.getframerate()\n",
    "    A = np.fft.fft(y)\n",
    "    DeltaT = 1./FE\n",
    "    ampl = np.abs(A)*1./N\n",
    "    liste_sample_fft.append(ampl)\n",
    "    return ampl\n",
    "\n",
    "def Parcours_file_fft(listname): #Allows us to take the name of the files of train or test or validation\n",
    "    df = extract_file() \n",
    "    df_train = []\n",
    "    for i in range(len(listname)):\n",
    "        df_train.append(fct_FFT(df[\"sample\"][i]))\n",
    "    return df_train\n",
    "\n",
    "liste = split_our_lists() \n",
    "\n",
    "from sklearn.ensemble import RandomForestClassifier\n",
    "ClassifiedDatas = RandomForestClassifier()\n",
    "\n"
   ]
  },
  {
   "cell_type": "code",
   "execution_count": 4,
   "metadata": {},
   "outputs": [
    {
     "data": {
      "text/plain": [
       "784"
      ]
     },
     "execution_count": 4,
     "metadata": {},
     "output_type": "execute_result"
    }
   ],
   "source": [
    "Train = liste[0]\n",
    "k = 800\n",
    "Train_fft = Parcours_file_fft(liste[0])\n",
    "ClassifiedDatas.fit(Train_fft[:k], Train[:k])\n",
    "ClassifiedDatas.score(Train_fft[:k], Train[:k])\n",
    "\n",
    "Y = np.array(Train[:k])\n",
    "Y_predicted = ClassifiedDatas.predict(Train_fft[:k])\n",
    "sum(Y == Y_predicted)"
   ]
  },
  {
   "cell_type": "code",
   "execution_count": 3,
   "metadata": {},
   "outputs": [
    {
     "name": "stdout",
     "output_type": "stream",
     "text": [
      "0.67125\n",
      "537\n"
     ]
    }
   ],
   "source": [
    "# Effectuer avec le Validation\n",
    "\n",
    "Validation = liste[1]\n",
    "Validation_fft = Parcours_file_fft(liste[1])\n",
    "print(ClassifiedDatas.score(Validation_fft[:k], Validation[:k]))\n",
    "\n",
    "Xtst = np.array(Validation[:k])\n",
    "Ytst = ClassifiedDatas.predict(Validation_fft[:k])\n",
    "\n",
    "print(sum(Xtst == Ytst))"
   ]
  },
  {
   "cell_type": "code",
   "execution_count": 83,
   "metadata": {},
   "outputs": [
    {
     "name": "stdout",
     "output_type": "stream",
     "text": [
      "[[ 0.1  0.9]\n",
      " [ 0.6  0.4]\n",
      " [ 0.8  0.2]\n",
      " [ 0.9  0.1]\n",
      " [ 0.4  0.6]\n",
      " [ 0.8  0.2]\n",
      " [ 0.   1. ]\n",
      " [ 0.9  0.1]\n",
      " [ 0.9  0.1]\n",
      " [ 0.5  0.5]\n",
      " [ 0.9  0.1]\n",
      " [ 1.   0. ]\n",
      " [ 1.   0. ]\n",
      " [ 1.   0. ]\n",
      " [ 0.9  0.1]]\n"
     ]
    },
    {
     "data": {
      "text/plain": [
       "array([[12,  3, 14,  4, 15, 13, 17, 15, 23,  1],\n",
       "       [ 8,  3,  3, 12, 10,  5,  5, 12,  4,  4],\n",
       "       [ 8,  9,  9,  4, 10,  8, 11, 11, 15,  5],\n",
       "       [14, 16,  6, 10, 10,  8,  5, 12, 15, 13],\n",
       "       [ 9, 16,  9,  9, 17, 11, 17, 15, 19, 13],\n",
       "       [ 9, 20, 16, 10, 10,  8, 11, 15, 15, 13],\n",
       "       [ 9, 20,  3, 16, 17, 11, 17, 18, 26, 15],\n",
       "       [ 8, 16,  9,  9, 10,  8,  5, 15, 15, 13],\n",
       "       [13, 16,  9, 12, 10,  8, 17, 15, 15, 13],\n",
       "       [ 6, 10, 11, 12, 14,  9,  5, 16, 15, 13],\n",
       "       [ 8, 16,  6, 12, 10,  8,  5, 15, 15, 13],\n",
       "       [ 8, 16, 16, 10, 10,  8, 11, 15, 15, 13],\n",
       "       [14, 16,  9,  5, 14,  8, 11, 15, 15,  5],\n",
       "       [14, 16, 16, 12, 10,  8,  5, 15, 25, 13],\n",
       "       [14, 16, 16, 12, 10,  8, 11,  2, 15, 13]])"
      ]
     },
     "execution_count": 83,
     "metadata": {},
     "output_type": "execute_result"
    }
   ],
   "source": [
    "# ??  \n",
    "print(ClassifiedDatas.predict_proba(vect_tot[:15]))\n",
    "ClassifiedDatas.decision_path(vect_tot[:15])\n",
    "# Path of the tree to each value\n",
    "ClassifiedDatas.apply(vect_tot[:15])\n"
   ]
  }
 ],
 "metadata": {
  "kernelspec": {
   "display_name": "Python 3",
   "language": "python",
   "name": "python3"
  },
  "language_info": {
   "codemirror_mode": {
    "name": "ipython",
    "version": 3
   },
   "file_extension": ".py",
   "mimetype": "text/x-python",
   "name": "python",
   "nbconvert_exporter": "python",
   "pygments_lexer": "ipython3",
   "version": "3.6.1"
  }
 },
 "nbformat": 4,
 "nbformat_minor": 2
}
