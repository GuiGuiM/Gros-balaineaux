{
 "cells": [
  {
   "cell_type": "code",
   "execution_count": 65,
   "metadata": {},
   "outputs": [
    {
     "data": {
      "image/png": "[encoded data removed]",
      "text/plain": [
       "<matplotlib.figure.Figure at 0x7fc246cb4908>"
      ]
     },
     "metadata": {},
     "output_type": "display_data"
    },
    {
     "name": "stdout",
     "output_type": "stream",
     "text": [
      "18000\n",
      "18000\n"
     ]
    }
   ],
   "source": [
    "import random\n",
    "import numpy as np\n",
    "import aifc\n",
    "import csv\n",
    "import pandas as pd\n",
    "import sys\n",
    "import matplotlib.pyplot as plt\n",
    "\n",
    "def extract_file():\n",
    "    df = pd.read_csv('train.csv', header=0, sep=',')\n",
    "    df.columns=['sample', 'label'] \n",
    "    return df\n",
    "    \n",
    "def pourc(tl, pourc):\n",
    "    return pourc*tl/100\n",
    "\n",
    "def create_label():\n",
    "    df = extract_file()\n",
    "    label_list = []\n",
    "    for i in range(len(df)):\n",
    "        label_list.append(df['label'][i])\n",
    "    return label_list\n",
    "\n",
    "def split_our_lists():\n",
    "    train = []\n",
    "    validation = []\n",
    "    test = []\n",
    "    label_list = create_label()\n",
    "    random.shuffle(label_list)\n",
    "    tl = len(label_list)\n",
    "    \n",
    "    for i in range(tl):\n",
    "        if i < pourc(tl,60):\n",
    "            train.append(label_list[i])\n",
    "        elif i < pourc(tl,80):\n",
    "            validation.append(label_list[i])\n",
    "        else:\n",
    "            test.append(label_list[i])\n",
    "    return train, validation, test\n",
    "\n",
    "\n",
    "def show_signal(filename):\n",
    "    liste_sample_fft = []\n",
    "    s = aifc.open('Data/train/' + filename, \"r\")\n",
    "    N = s.getnframes()\n",
    "    strsig = s.readframes(N)\n",
    "    y = np.fromstring(strsig, np.short).byteswap()\n",
    "    FE = s.getframerate()\n",
    "    A = np.fft.fft(y)\n",
    "    DeltaT = 1./FE\n",
    "    ampl = np.abs(A)*1./N\n",
    "    freqs = np.fft.fftfreq(N, DeltaT)\n",
    "    P = plt.plot(freqs, ampl) \n",
    "    plt.ylabel(\"Amplitude\")\n",
    "    plt.xlabel(\"Frequence\")\n",
    "    plt.show()\n",
    "\n",
    "def fct_FFT(filename) :\n",
    "    liste_sample_fft = []\n",
    "    s = aifc.open('Data/train/' + filename, \"r\")\n",
    "    N = s.getnframes()\n",
    "    strsig = s.readframes(N)\n",
    "    y = np.fromstring(strsig, np.short).byteswap()\n",
    "    FE = s.getframerate()\n",
    "    A = np.fft.fft(y)\n",
    "    DeltaT = 1./FE\n",
    "    ampl = np.abs(A)*1./N\n",
    "    liste_sample_fft.append(ampl)\n",
    "    return liste_sample_fft\n",
    "\n",
    "def Parcours_file_fft(listname):\n",
    "    df = extract_file() \n",
    "    df_train = []\n",
    "    for i in range(len(listname)):\n",
    "        df_train.append(fct_FFT(df[\"sample\"][i]))\n",
    "    return df_train\n",
    "\n",
    "liste = split_our_lists()\n",
    "show_signal(\"train2.aiff\")\n",
    "Parcours_file_fft(liste[0])"
   ]
  }
 ],
 "metadata": {
  "kernelspec": {
   "display_name": "Python 3",
   "language": "python",
   "name": "python3"
  },
  "language_info": {
   "codemirror_mode": {
    "name": "ipython",
    "version": 3
   },
   "file_extension": ".py",
   "mimetype": "text/x-python",
   "name": "python",
   "nbconvert_exporter": "python",
   "pygments_lexer": "ipython3",
   "version": "3.6.1"
  }
 },
 "nbformat": 4,
 "nbformat_minor": 2
}
